{
 "cells": [
  {
   "cell_type": "code",
   "execution_count": 1,
   "id": "263272f2",
   "metadata": {},
   "outputs": [],
   "source": [
    "using LinearAlgebra"
   ]
  },
  {
   "cell_type": "code",
   "execution_count": 2,
   "id": "b020fad2",
   "metadata": {},
   "outputs": [],
   "source": [
    "struct Model\n",
    "    labels::Vector{String}\n",
    "    matrix::Matrix{Float64}\n",
    "    shape::Tuple{Int64, Int64}\n",
    "\n",
    "    function Model(file_name; limit=nothing)\n",
    "        file = open(file_name, \"r\")\n",
    "        rows, columns = parse.(Int64, split(readline(file)))\n",
    "        rows = limit == nothing ? rows : min(rows, limit)\n",
    "    \n",
    "        matrix = Array{Float64}(undef, rows, columns)\n",
    "        labels = Array{String}(undef, rows)\n",
    "    \n",
    "        for i in 1:rows\n",
    "            line = split(readline(file))    \n",
    "            labels[i] = line[1]\n",
    "            matrix[i, :] .= parse.(Float64, line[end-columns+1:end])\n",
    "        end\n",
    "        \n",
    "        new(labels, matrix, (rows, columns))\n",
    "    end\n",
    "    \n",
    "end"
   ]
  },
  {
   "cell_type": "code",
   "execution_count": 3,
   "id": "1d7365dc",
   "metadata": {},
   "outputs": [
    {
     "data": {
      "text/plain": [
       "loadWords (generic function with 1 method)"
      ]
     },
     "execution_count": 3,
     "metadata": {},
     "output_type": "execute_result"
    }
   ],
   "source": [
    "struct Word\n",
    "    pt::String\n",
    "    en::String\n",
    "    es::String\n",
    "end\n",
    "\n",
    "function loadWords(file_name)\n",
    "    words = Array{Word}(undef, 0)\n",
    "    \n",
    "    for line in eachline(file_name)\n",
    "        w = Word(split(line)...)\n",
    "        push!(words, w)\n",
    "    end\n",
    "    \n",
    "    return words\n",
    "end"
   ]
  },
  {
   "cell_type": "code",
   "execution_count": 4,
   "id": "9f243f94",
   "metadata": {},
   "outputs": [
    {
     "data": {
      "text/plain": [
       "rankSimilarity (generic function with 1 method)"
      ]
     },
     "execution_count": 4,
     "metadata": {},
     "output_type": "execute_result"
    }
   ],
   "source": [
    "function cossineSimilarity(v1, v2)\n",
    "    return dot(v1, v2)/(norm(v1)*norm(v2))\n",
    "end\n",
    "\n",
    "function getVector(model, word)\n",
    "    idx = findfirst(==(word), model.labels)\n",
    "    return model.matrix[idx, :]\n",
    "end\n",
    "\n",
    "function rankSimilarity(model, v1; top=10)\n",
    "    rank = []\n",
    "    for (idx, v2) in enumerate(eachrow(model.matrix))\n",
    "        try\n",
    "            push!(rank, (idx,cossineSimilarity(v1, v2)))\n",
    "        catch\n",
    "            println(idx)\n",
    "            println(length(v2))\n",
    "            println(getVector(model, idx))\n",
    "        end\n",
    "    end\n",
    "    \n",
    "    sort!(rank, by=r->r[2], rev=true)\n",
    "    return [ (model.labels[i], r) for (i,r) in rank[1:top]]\n",
    "end"
   ]
  },
  {
   "cell_type": "code",
   "execution_count": 5,
   "id": "027c2313",
   "metadata": {},
   "outputs": [
    {
     "name": "stdout",
     "output_type": "stream",
     "text": [
      "load model ok"
     ]
    }
   ],
   "source": [
    "limit = 100000\n",
    "words = loadWords(\"words\")\n",
    "pt_50 = Model(\"glove.pt.050.txt\", limit=limit)\n",
    "en_50 = Model(\"glove.en.050.txt\", limit=limit)\n",
    "en_100 = Model(\"glove.en.100.txt\", limit=limit)\n",
    "print(\"load model ok\")"
   ]
  },
  {
   "cell_type": "code",
   "execution_count": 6,
   "id": "56e2477c",
   "metadata": {},
   "outputs": [
    {
     "name": "stdout",
     "output_type": "stream",
     "text": [
      "load words ok"
     ]
    }
   ],
   "source": [
    "wv_pt_50 = Array{Array{Float64}}(undef, 0)\n",
    "wv_en_50 = []\n",
    "wv_en_100  = []\n",
    "\n",
    "for w in words\n",
    "    \n",
    "    push!(wv_pt_50, getVector(pt_50, w.pt))\n",
    "    push!(wv_en_50, getVector(en_50, w.en))\n",
    "    push!(wv_en_100,  getVector(en_100, w.en))\n",
    "end\n",
    "\n",
    "wv_pt_50 = transpose(reshape(reduce(vcat, wv_pt_50), 50, 109))\n",
    "wv_en_50 = transpose(reshape(reduce(vcat, wv_en_50), 50, 109))\n",
    "wv_en_100 = transpose(reshape(reduce(vcat, wv_en_100), 100, 109))\n",
    "\n",
    "print(\"load words ok\")"
   ]
  },
  {
   "cell_type": "code",
   "execution_count": 7,
   "id": "ec79abef",
   "metadata": {},
   "outputs": [
    {
     "data": {
      "text/plain": [
       "50×50 Matrix{Float64}:\n",
       "  6.05072e-15   9.85323e-16   7.42462e-16  …   1.95677e-15   3.06547e-15\n",
       " -8.04912e-16   4.2466e-15   -3.9968e-15      -8.19657e-16  -8.67362e-17\n",
       " -5.96745e-15   4.82947e-15  -4.71845e-16     -9.49826e-15   4.16334e-16\n",
       "  1.27676e-15  -4.08007e-15   9.00321e-16      2.41474e-15   8.74301e-16\n",
       " -4.30211e-16  -6.45317e-15   1.94289e-15      5.85643e-15  -2.82413e-15\n",
       " -2.44249e-15  -4.87024e-16   3.38618e-15  …  -3.46945e-15  -2.05391e-15\n",
       "  4.44089e-16   7.34135e-15   3.40006e-16     -1.39055e-14  -1.38778e-15\n",
       " -1.66533e-15  -2.33147e-15   8.90954e-15     -5.90847e-15  -3.68455e-15\n",
       "  5.27356e-16   3.10169e-15   2.158e-15       -3.16414e-15  -1.33227e-15\n",
       " -3.07133e-15  -7.05859e-15   1.22125e-15      9.74221e-15  -9.99201e-16\n",
       " -4.77049e-16   4.30211e-15   1.25594e-15  …  -1.20182e-14  -1.38778e-15\n",
       " -3.83027e-15   3.05311e-15  -1.11022e-15     -2.77903e-15  -1.16573e-15\n",
       "  3.747e-15     6.10623e-16   8.74301e-16     -3.45991e-15   4.996e-16\n",
       "  ⋮                                        ⋱                \n",
       "  3.05311e-16  -4.32987e-15  -2.65066e-15      6.09235e-15   1.58207e-15\n",
       "  3.9968e-15   -1.44329e-15   7.84789e-15     -4.77569e-15  -2.97071e-15\n",
       " -1.42941e-15  -2.44249e-15   5.0307e-15   …  -4.30211e-15  -1.38084e-15\n",
       " -5.07927e-15   2.58127e-15  -4.21885e-15     -1.92901e-15   3.1225e-15\n",
       " -4.996e-15    -6.96665e-15   1.80411e-16      7.44543e-15  -1.9984e-15\n",
       " -4.76094e-15   2.30371e-15   2.48412e-15     -8.75688e-15  -2.498e-15\n",
       " -6.38378e-15   1.80411e-15  -2.13718e-15     -6.16174e-15   0.0\n",
       "  1.24206e-15   5.38458e-15   1.49013e-15  …  -7.77156e-15  -1.57513e-15\n",
       "  5.10703e-15  -4.20497e-15   4.69069e-15      3.69149e-15   7.21645e-16\n",
       "  8.04912e-16   2.30371e-15  -3.93349e-15      2.63678e-15   1.249e-15\n",
       "  2.41474e-15   2.55351e-15   5.69683e-15     -8.403e-15    -7.77156e-16\n",
       " -1.59248e-15  -2.55351e-15   6.38378e-15     -9.61731e-15  -4.82253e-15"
      ]
     },
     "execution_count": 7,
     "metadata": {},
     "output_type": "execute_result"
    }
   ],
   "source": [
    "#avaliando se a ordem importa ou se fazer o transposto é suficiente\n",
    "U, S, V = LinearAlgebra.svd( transpose(wv_pt_50) * wv_en_50)\n",
    "translator1 = V * transpose(U)\n",
    "\n",
    "U, S, V = LinearAlgebra.svd( transpose(wv_en_50) * wv_pt_50)\n",
    "translator2 = V * transpose(U)\n",
    "\n",
    "#resultado: igual, diferença na ordem da 15 casa decimal (erro de máquina)\n",
    "translator1 - transpose(translator2)"
   ]
  },
  {
   "cell_type": "code",
   "execution_count": 8,
   "id": "09dde551",
   "metadata": {},
   "outputs": [
    {
     "name": "stdout",
     "output_type": "stream",
     "text": [
      "(\"debaixo\", 0.863570322804008)(\"chão\", 0.8406395466126464)\n",
      "(\"floor\", 0.8196048072225328)(\"floor\", 0.7891998045017863)\n"
     ]
    }
   ],
   "source": [
    "#usando dimensões diferentes\n",
    "U, S, V = LinearAlgebra.svd( transpose(wv_en_100) * wv_pt_50)\n",
    "translator3 = V * transpose(U)\n",
    "\n",
    "word = \"floor\" #varia pouco entre quem tem o melhor score, parece favorecer o en com 100 dimensões\n",
    "result1a = rankSimilarity(pt_50, translator2 * getVector(en_50, word))[1]\n",
    "result1b = rankSimilarity(pt_50, translator3 * getVector(en_100, word))[1]\n",
    "println(result1a, result1b)\n",
    "\n",
    "word = \"chão\" #parece favorecer o modelo en com 50 dimensões\n",
    "result2a = rankSimilarity(en_50, transpose(translator2) * getVector(pt_50, word))[1]\n",
    "result2b = rankSimilarity(en_100, transpose(translator3) * getVector(pt_50, word))[1]\n",
    "println(result2a, result2b)"
   ]
  },
  {
   "cell_type": "code",
   "execution_count": 97,
   "id": "459cfe09",
   "metadata": {},
   "outputs": [
    {
     "data": {
      "text/plain": [
       "50×50 SparseArrays.SparseMatrixCSC{Float64, Int64} with 50 stored entries:\n",
       "⠑⢄⠀⠀⠀⠀⠀⠀⠀⠀⠀⠀⠀⠀⠀⠀⠀⠀⠀⠀⠀⠀⠀⠀⠀\n",
       "⠀⠀⠑⢄⠀⠀⠀⠀⠀⠀⠀⠀⠀⠀⠀⠀⠀⠀⠀⠀⠀⠀⠀⠀⠀\n",
       "⠀⠀⠀⠀⠑⢄⠀⠀⠀⠀⠀⠀⠀⠀⠀⠀⠀⠀⠀⠀⠀⠀⠀⠀⠀\n",
       "⠀⠀⠀⠀⠀⠀⠑⢄⠀⠀⠀⠀⠀⠀⠀⠀⠀⠀⠀⠀⠀⠀⠀⠀⠀\n",
       "⠀⠀⠀⠀⠀⠀⠀⠀⠑⢄⠀⠀⠀⠀⠀⠀⠀⠀⠀⠀⠀⠀⠀⠀⠀\n",
       "⠀⠀⠀⠀⠀⠀⠀⠀⠀⠀⠑⢄⠀⠀⠀⠀⠀⠀⠀⠀⠀⠀⠀⠀⠀\n",
       "⠀⠀⠀⠀⠀⠀⠀⠀⠀⠀⠀⠀⠑⢄⠀⠀⠀⠀⠀⠀⠀⠀⠀⠀⠀\n",
       "⠀⠀⠀⠀⠀⠀⠀⠀⠀⠀⠀⠀⠀⠀⠑⢄⠀⠀⠀⠀⠀⠀⠀⠀⠀\n",
       "⠀⠀⠀⠀⠀⠀⠀⠀⠀⠀⠀⠀⠀⠀⠀⠀⠑⢄⠀⠀⠀⠀⠀⠀⠀\n",
       "⠀⠀⠀⠀⠀⠀⠀⠀⠀⠀⠀⠀⠀⠀⠀⠀⠀⠀⠑⢄⠀⠀⠀⠀⠀\n",
       "⠀⠀⠀⠀⠀⠀⠀⠀⠀⠀⠀⠀⠀⠀⠀⠀⠀⠀⠀⠀⠑⢄⠀⠀⠀\n",
       "⠀⠀⠀⠀⠀⠀⠀⠀⠀⠀⠀⠀⠀⠀⠀⠀⠀⠀⠀⠀⠀⠀⠑⢄⠀\n",
       "⠀⠀⠀⠀⠀⠀⠀⠀⠀⠀⠀⠀⠀⠀⠀⠀⠀⠀⠀⠀⠀⠀⠀⠀⠑"
      ]
     },
     "execution_count": 97,
     "metadata": {},
     "output_type": "execute_result"
    }
   ],
   "source": [
    "#usando o generalized svd\n",
    "U, V, Q, D1, D2, R0 = svd(copy(transpose(wv_en_50)), copy(transpose(wv_pt_50)))\n",
    "D2 = D2[:, 51:end]\n",
    "D1 = D1[:, 1:50]\n",
    "\n",
    "(D1 / D2)\n",
    "#translator4 = (U * (D1 / D') * U') \n",
    "#word = \"girl\" \n",
    "#rankSimilarity(pt_50, transpose(translator4) * getVector(en_50, word))"
   ]
  }
 ],
 "metadata": {
  "kernelspec": {
   "display_name": "Julia 1.7.3",
   "language": "julia",
   "name": "julia-1.7"
  },
  "language_info": {
   "file_extension": ".jl",
   "mimetype": "application/julia",
   "name": "julia",
   "version": "1.7.3"
  }
 },
 "nbformat": 4,
 "nbformat_minor": 5
}
