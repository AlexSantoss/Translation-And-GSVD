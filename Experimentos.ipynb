{
 "cells": [
  {
   "cell_type": "code",
   "execution_count": 1,
   "id": "263272f2",
   "metadata": {},
   "outputs": [],
   "source": [
    "using LinearAlgebra\n",
    "using DelimitedFiles"
   ]
  },
  {
   "cell_type": "code",
   "execution_count": 2,
   "id": "b020fad2",
   "metadata": {},
   "outputs": [],
   "source": [
    "struct Model\n",
    "    labels::Vector{String}\n",
    "    matrix::Matrix{Float64}\n",
    "    shape::Tuple{Int64, Int64}\n",
    "\n",
    "    function Model(file_name; limit=nothing)\n",
    "        file = open(file_name, \"r\")\n",
    "        rows, columns = parse.(Int64, split(readline(file)))\n",
    "        rows = limit == nothing ? rows : min(rows, limit)\n",
    "    \n",
    "        matrix = Array{Float64}(undef, rows, columns)\n",
    "        labels = Array{String}(undef, rows)\n",
    "    \n",
    "        for i in 1:rows\n",
    "            line = split(readline(file))    \n",
    "            labels[i] = line[1]\n",
    "            matrix[i, :] .= parse.(Float64, line[end-columns+1:end])\n",
    "        end\n",
    "        \n",
    "        new(labels, matrix, (rows, columns))\n",
    "    end\n",
    "    \n",
    "end"
   ]
  },
  {
   "cell_type": "code",
   "execution_count": 3,
   "id": "1d7365dc",
   "metadata": {},
   "outputs": [
    {
     "data": {
      "text/plain": [
       "loadWords (generic function with 1 method)"
      ]
     },
     "execution_count": 3,
     "metadata": {},
     "output_type": "execute_result"
    }
   ],
   "source": [
    "struct Word\n",
    "    pt::String\n",
    "    en::String\n",
    "    es::String\n",
    "end\n",
    "\n",
    "function loadWords(file_name)\n",
    "    words = Array{Word}(undef, 0)\n",
    "    \n",
    "    for line in eachline(file_name)\n",
    "        w = Word(split(line)...)\n",
    "        push!(words, w)\n",
    "    end\n",
    "    \n",
    "    return words\n",
    "end"
   ]
  },
  {
   "cell_type": "code",
   "execution_count": 4,
   "id": "9f243f94",
   "metadata": {},
   "outputs": [
    {
     "data": {
      "text/plain": [
       "rankSimilarity (generic function with 1 method)"
      ]
     },
     "execution_count": 4,
     "metadata": {},
     "output_type": "execute_result"
    }
   ],
   "source": [
    "function cossineSimilarity(v1, v2)\n",
    "    return dot(v1, v2)/(norm(v1)*norm(v2))\n",
    "end\n",
    "\n",
    "function getVector(model, word)\n",
    "    idx = findfirst(==(word), model.labels)\n",
    "    return model.matrix[idx, :]\n",
    "end\n",
    "\n",
    "function rankSimilarity(model, v1; top=10)\n",
    "    rank = []\n",
    "    for (idx, v2) in enumerate(eachrow(model.matrix))\n",
    "        try\n",
    "            push!(rank, (idx,cossineSimilarity(v1, v2)))\n",
    "        catch\n",
    "            println(idx)\n",
    "            println(length(v2))\n",
    "            println(getVector(model, idx))\n",
    "        end\n",
    "    end\n",
    "    \n",
    "    sort!(rank, by=r->r[2], rev=true)\n",
    "    return [ (model.labels[i], r) for (i,r) in rank[1:top]]\n",
    "end"
   ]
  },
  {
   "cell_type": "code",
   "execution_count": 5,
   "id": "027c2313",
   "metadata": {},
   "outputs": [
    {
     "name": "stdout",
     "output_type": "stream",
     "text": [
      "load model ok"
     ]
    }
   ],
   "source": [
    "limit = 100000\n",
    "words = loadWords(\"words\")\n",
    "pt_50 = Model(\"glove.pt.050.txt\", limit=limit)\n",
    "en_50 = Model(\"glove.en.050.txt\", limit=limit)\n",
    "en_100 = Model(\"glove.en.100.txt\", limit=limit)\n",
    "print(\"load model ok\")"
   ]
  },
  {
   "cell_type": "code",
   "execution_count": 6,
   "id": "56e2477c",
   "metadata": {},
   "outputs": [
    {
     "name": "stdout",
     "output_type": "stream",
     "text": [
      "load words ok"
     ]
    }
   ],
   "source": [
    "wv_pt_50 = Array{Array{Float64}}(undef, 0)\n",
    "wv_en_50 = []\n",
    "wv_en_100  = []\n",
    "\n",
    "for w in words\n",
    "    \n",
    "    push!(wv_pt_50, getVector(pt_50, w.pt))\n",
    "    push!(wv_en_50, getVector(en_50, w.en))\n",
    "    push!(wv_en_100,  getVector(en_100, w.en))\n",
    "end\n",
    "\n",
    "wv_pt_50 = transpose(reshape(reduce(vcat, wv_pt_50), 50, 109))\n",
    "wv_en_50 = transpose(reshape(reduce(vcat, wv_en_50), 50, 109))\n",
    "wv_en_100 = transpose(reshape(reduce(vcat, wv_en_100), 100, 109))\n",
    "\n",
    "print(\"load words ok\")"
   ]
  },
  {
   "cell_type": "code",
   "execution_count": 7,
   "id": "ec79abef",
   "metadata": {},
   "outputs": [
    {
     "data": {
      "text/plain": [
       "2.0846459779133275e-13"
      ]
     },
     "execution_count": 7,
     "metadata": {},
     "output_type": "execute_result"
    }
   ],
   "source": [
    "#avaliando se a ordem importa ou se fazer o transposto é suficiente\n",
    "U, S, V = LinearAlgebra.svd( transpose(wv_pt_50) * wv_en_50)\n",
    "translator1 = V * transpose(U)\n",
    "\n",
    "U, S, V = LinearAlgebra.svd( transpose(wv_en_50) * wv_pt_50)\n",
    "translator2 = V * transpose(U)\n",
    "\n",
    "#resultado: igual, diferença na ordem da 15 casa decimal (erro de máquina)\n",
    "norm(translator1 - transpose(translator2))"
   ]
  },
  {
   "cell_type": "code",
   "execution_count": 8,
   "id": "09dde551",
   "metadata": {},
   "outputs": [
    {
     "name": "stdout",
     "output_type": "stream",
     "text": [
      "(\"rainha\", 0.8498238306396296)(\"rainha\", 0.7775425505991818)\n",
      "(\"queen\", 0.8498238306396301)(\"daughter\", 0.7438290230631963)\n"
     ]
    }
   ],
   "source": [
    "#usando dimensões diferentes\n",
    "U, S, V = LinearAlgebra.svd( transpose(wv_en_100) * wv_pt_50)\n",
    "translator3 = V * transpose(U)\n",
    "\n",
    "word = \"queen\" #varia pouco entre quem tem o melhor score, parece favorecer o en com 100 dimensões\n",
    "result1a = rankSimilarity(pt_50, translator2 * getVector(en_50, word))[1]\n",
    "result1b = rankSimilarity(pt_50, translator3 * getVector(en_100, word))[1]\n",
    "println(result1a, result1b)\n",
    "\n",
    "word = \"rainha\" #parece favorecer o modelo en com 50 dimensões\n",
    "result2a = rankSimilarity(en_50, transpose(translator2) * getVector(pt_50, word))[1]\n",
    "result2b = rankSimilarity(en_100, transpose(translator3) * getVector(pt_50, word))[1]\n",
    "println(result2a, result2b)"
   ]
  },
  {
   "cell_type": "code",
   "execution_count": 17,
   "id": "459cfe09",
   "metadata": {},
   "outputs": [
    {
     "name": "stdout",
     "output_type": "stream",
     "text": [
      "[(\"the\", NaN), (\",\", NaN), (\".\", NaN), (\"of\", NaN), (\"to\", NaN), (\"and\", NaN), (\"in\", NaN), (\"a\", NaN), (\"\\\"\", NaN), (\"'s\", NaN)]\n",
      "[(\",\", NaN), (\"de\", NaN), (\".\", NaN), (\"a\", NaN), (\"o\", NaN), (\"e\", NaN), (\"que\", NaN), (\"do\", NaN), (\"da\", NaN), (\"em\", NaN)]\n"
     ]
    }
   ],
   "source": [
    "#usando o generalized svd\n",
    "pseudo_inversa(M) = [ M[i, j] == 0 ? 0 : 1/M[i,j] for j=1:size(M, 2), i=1:size(M, 1)]\n",
    "U, V, Q, D1, D2, R0 = svd(copy(wv_en_50'), copy(wv_pt_50'))\n",
    "\n",
    "rel_pro = U*Matrix(D1)*pinv(Matrix(D2))*V'\n",
    "#rel_pro = V*Matrix(D2)*pinv(Matrix(D1))*U'\n",
    "\n",
    "word = \"porta\"\n",
    "pt_en =  rankSimilarity(en_50, rel_pro * getVector(pt_50, word))\n",
    "\n",
    "word = \"door\"\n",
    "en_pt = rankSimilarity(pt_50, rel_pro' * getVector(en_50, word))\n",
    "\n",
    "println(pt_en)\n",
    "println(en_pt)"
   ]
  },
  {
   "cell_type": "code",
   "execution_count": 8,
   "id": "0585ff42",
   "metadata": {},
   "outputs": [
    {
     "data": {
      "text/plain": [
       "Model([\"0\", \"1\", \"2\", \"3\", \"4\", \"5\", \"6\", \"7\", \"8\", \"9\"  …  \"13849\", \"13850\", \"13851\", \"13852\", \"13853\", \"13854\", \"13855\", \"13856\", \"13857\", \"13858\"], [-0.846839309 0.316527665 … -0.119948894 -0.722243428; -1.33063745 0.0863740444 … -0.362909794 -0.958913624; … ; -1.29426849 -0.0411639214 … -0.531373501 -0.828964531; -1.40153825 -0.00174879329 … -0.506277561 -0.812443912], (13859, 768))"
      ]
     },
     "execution_count": 8,
     "metadata": {},
     "output_type": "execute_result"
    }
   ],
   "source": [
    "pre_trained = Model(\"bert_pre_trained.txt\")\n",
    "fine_tuned = Model(\"bert_fine_tuned.txt\")"
   ]
  },
  {
   "cell_type": "code",
   "execution_count": 11,
   "id": "85c4542f",
   "metadata": {},
   "outputs": [
    {
     "name": "stdout",
     "output_type": "stream",
     "text": [
      "1178.783150618428"
     ]
    },
    {
     "data": {
      "text/plain": [
       "GeneralizedSVD{Float64, Matrix{Float64}}\n",
       "U factor:\n",
       "768×768 Matrix{Float64}:\n",
       " -0.0157561   -0.00800074  …   0.0417602   -0.00757467  0.0340669\n",
       "  0.0403759   -0.0510698      -0.00233342  -0.0256246   0.0327814\n",
       "  0.0489229    0.0221008      -0.00945335   0.0304271   0.0347773\n",
       "  0.0454499    0.0666006       0.0226363   -0.018633    0.0337839\n",
       "  0.00893428  -0.0536798       0.0188663   -0.0290065   0.0325154\n",
       " -0.0743343   -0.0189231   …  -0.00621576   0.0423542   0.0339138\n",
       " -0.00994869  -0.0181473       0.0176232    0.0315896   0.0346315\n",
       " -0.0555386   -0.0177298       0.017741    -0.00894197  0.0343377\n",
       "  0.0112      -0.0101952      -0.00603635  -0.00985477  0.0354194\n",
       "  0.0422447   -0.0118826       0.0119449   -0.00617351  0.0337181\n",
       " -0.0245246   -0.0377828   …   0.00260209  -0.0240956   0.0344884\n",
       "  0.00676223  -0.00886053      0.0331352    0.0155149   0.0340115\n",
       " -0.0468199    0.0393838       0.0213483   -0.0328872   0.0351048\n",
       "  ⋮                        ⋱   ⋮                        \n",
       " -0.0429604    0.00911029     -0.0285528    0.0743878   0.0357371\n",
       "  0.0377459    0.0224701      -0.0697515   -0.0291817   0.0346677\n",
       " -0.0504128   -0.0183956      -0.0705506   -0.0327704   0.036017\n",
       " -0.0365553   -0.033212       -0.010553    -0.0504309   0.0344745\n",
       "  0.0111901   -0.0215787   …   0.0345816    0.00573672  0.0353644\n",
       "  0.0097794    0.0306186      -0.0211491    0.0177048   0.0356235\n",
       "  0.0303333    0.00863473     -0.0187019   -0.00708884  0.0342762\n",
       " -0.00182952  -0.0421086      -0.0607417   -0.0315788   0.0346538\n",
       "  0.0217821    0.0449109      -0.0362858    0.0244857   0.0344774\n",
       "  0.0603443   -0.0643721   …  -0.0164034    0.0245402   0.0349369\n",
       "  0.00873154   0.0109187      -0.0401675   -0.0301933   0.0341556\n",
       "  0.0112887    0.0601634      -0.0141809   -0.0838027   0.0336509\n",
       "V factor:\n",
       "768×768 Matrix{Float64}:\n",
       " -0.0175691    0.00947134   0.073032    …   0.00620348   0.00399845\n",
       " -0.00488518  -0.00488236  -0.00625031     -0.0273598    0.00471323\n",
       " -0.0281333   -0.0211253   -0.0217477       0.0846672   -0.0378684\n",
       " -0.0499519   -0.0166979    0.0332834      -0.0591128    0.0556243\n",
       " -0.0294166   -0.0614762    0.00482969     -0.0107358    0.0846077\n",
       "  0.0323463   -0.0471717    0.0120832   …   0.0055279    0.0357271\n",
       "  0.0132641    0.0178778    0.0402505      -0.037072    -0.0329103\n",
       " -0.0175027   -0.0133683    0.0348711      -0.0154664    0.074906\n",
       "  0.0335056    0.0739353    0.0112223       0.0137021    0.0447129\n",
       " -0.0213867    0.0350289   -0.003216        0.00590549  -0.00554284\n",
       "  0.0248145    0.0601641   -0.0110007   …  -0.0168262   -0.00083932\n",
       " -0.10196     -0.0466732   -0.0268507       0.0240887    0.00112315\n",
       " -0.0354966   -0.0244956   -0.00769753      0.0121421    0.0405639\n",
       "  ⋮                                     ⋱               \n",
       "  0.0575967    0.0239187    0.0219089       0.00615645   0.0482729\n",
       " -0.0224991    0.0483914   -0.0160175       0.00587444   0.0270215\n",
       " -0.012701    -0.0298535    0.0487639      -0.0320564    0.0306989\n",
       "  0.00829938   0.0340475   -0.0177275      -0.018837    -0.0891734\n",
       "  0.0280701   -0.0232667   -0.0224345   …   0.0012843    0.0690353\n",
       "  0.0111038    0.0205562    0.00155361     -0.0227884    0.0559998\n",
       "  0.0035914   -0.0029191   -0.0622177       0.00273425  -0.0361732\n",
       " -0.0442582   -0.00987709   0.0469668      -0.0756588   -0.0301662\n",
       " -0.00864071  -0.0341125   -0.0107924      -0.0164488    0.0299022\n",
       " -0.0335193   -0.0241925    0.0443537   …  -0.0116908   -0.0188592\n",
       "  0.0115908    0.0243377    0.0309112       0.040546     0.0387167\n",
       " -0.0461299    0.0438981   -0.0145235       0.0330948   -0.0331798\n",
       "Q factor:\n",
       "13859×13859 Matrix{Float64}:\n",
       "  0.00595348    0.00479156   -0.00363828   …   0.00723063    0.0116025\n",
       "  0.0042407    -0.0095419     0.00339662       0.000923385   0.00309829\n",
       " -0.00396227   -0.00404405    0.00244186       0.00770752   -0.017689\n",
       " -0.00274103   -7.73979e-6   -0.00540284       0.000729496   0.00077626\n",
       " -0.00447879   -0.000816564   0.00377277      -0.0103852     0.00099783\n",
       "  0.00398257   -0.00431692   -0.000559447  …  -0.00189021   -0.00597151\n",
       " -5.17017e-5   -0.00543015    0.00141932      -0.000620547   0.00638629\n",
       "  0.00377499   -0.00767846    0.0044804        0.00266274   -0.0111253\n",
       " -0.00112305   -0.00436619    0.00229643      -0.0130232    -0.00236649\n",
       " -0.00157484   -0.000836745  -0.00269907      -0.00769674    0.00312222\n",
       " -0.0067003     0.00203067   -0.00572127   …  -0.0097865     0.00444257\n",
       "  0.00206545    0.00679515    0.000160802     -0.00956999   -0.00133885\n",
       "  0.000513828  -0.00474697    0.00280767      -0.00759912   -0.00854996\n",
       "  ⋮                                        ⋱                \n",
       " -0.00581114   -0.0116591     0.00175875      -0.0162757    -0.000651789\n",
       "  0.0115755     0.00442706    0.00313946      -0.0123749     0.00945956\n",
       " -0.0110671    -0.00421854   -0.0112995       -0.00956198   -0.00385833\n",
       "  0.00326717   -0.00341185   -0.00120907   …  -0.0132159     0.00718122\n",
       " -6.79984e-5   -0.00774712   -0.00107524      -0.0109011    -0.00571403\n",
       " -0.0100762    -0.00129112   -0.00330976      -0.00365614   -0.0160855\n",
       "  0.0048972     0.000946085   0.001569        -0.011827     -0.00588001\n",
       " -0.00190593   -0.00295112   -0.00517103      -0.00934422   -0.000304456\n",
       "  0.00212271    0.00934816   -0.00171095   …  -0.0101995     0.000173447\n",
       " -0.00996374   -0.00968265    0.00276901      -0.00928493   -0.00519426\n",
       " -0.00657083   -0.00949152    0.000213759     -0.00786768   -0.00594123\n",
       " -0.00255403    0.00357348    0.00252501      -0.00216678   -0.000733551\n",
       "D1 factor:\n",
       "768×1536 SparseArrays.SparseMatrixCSC{Float64, Int64} with 768 stored entries:\n",
       "⠑⢤⠀⠀⠀⠀⠀⠀⠀⠀⠀⠀⠀⠀⠀⠀⠀⠀⠀⠀⠀⠀⠀⠀⠀⠀⠀⠀⠀⠀⠀⠀⠀⠀⠀⠀⠀⠀⠀⠀\n",
       "⠀⠀⠙⢦⡀⠀⠀⠀⠀⠀⠀⠀⠀⠀⠀⠀⠀⠀⠀⠀⠀⠀⠀⠀⠀⠀⠀⠀⠀⠀⠀⠀⠀⠀⠀⠀⠀⠀⠀⠀\n",
       "⠀⠀⠀⠀⠙⢦⡀⠀⠀⠀⠀⠀⠀⠀⠀⠀⠀⠀⠀⠀⠀⠀⠀⠀⠀⠀⠀⠀⠀⠀⠀⠀⠀⠀⠀⠀⠀⠀⠀⠀\n",
       "⠀⠀⠀⠀⠀⠀⠙⢦⡀⠀⠀⠀⠀⠀⠀⠀⠀⠀⠀⠀⠀⠀⠀⠀⠀⠀⠀⠀⠀⠀⠀⠀⠀⠀⠀⠀⠀⠀⠀⠀\n",
       "⠀⠀⠀⠀⠀⠀⠀⠀⠙⢦⡀⠀⠀⠀⠀⠀⠀⠀⠀⠀⠀⠀⠀⠀⠀⠀⠀⠀⠀⠀⠀⠀⠀⠀⠀⠀⠀⠀⠀⠀\n",
       "⠀⠀⠀⠀⠀⠀⠀⠀⠀⠀⠙⢦⡀⠀⠀⠀⠀⠀⠀⠀⠀⠀⠀⠀⠀⠀⠀⠀⠀⠀⠀⠀⠀⠀⠀⠀⠀⠀⠀⠀\n",
       "⠀⠀⠀⠀⠀⠀⠀⠀⠀⠀⠀⠀⠙⢦⡀⠀⠀⠀⠀⠀⠀⠀⠀⠀⠀⠀⠀⠀⠀⠀⠀⠀⠀⠀⠀⠀⠀⠀⠀⠀\n",
       "⠀⠀⠀⠀⠀⠀⠀⠀⠀⠀⠀⠀⠀⠀⠙⢦⡀⠀⠀⠀⠀⠀⠀⠀⠀⠀⠀⠀⠀⠀⠀⠀⠀⠀⠀⠀⠀⠀⠀⠀\n",
       "⠀⠀⠀⠀⠀⠀⠀⠀⠀⠀⠀⠀⠀⠀⠀⠀⠙⢦⡀⠀⠀⠀⠀⠀⠀⠀⠀⠀⠀⠀⠀⠀⠀⠀⠀⠀⠀⠀⠀⠀\n",
       "⠀⠀⠀⠀⠀⠀⠀⠀⠀⠀⠀⠀⠀⠀⠀⠀⠀⠀⠙⢦⠀⠀⠀⠀⠀⠀⠀⠀⠀⠀⠀⠀⠀⠀⠀⠀⠀⠀⠀⠀\n",
       "D2 factor:\n",
       "768×1536 SparseArrays.SparseMatrixCSC{Float64, Int64} with 768 stored entries:\n",
       "⠀⠀⠀⠀⠀⠀⠀⠀⠀⠀⠀⠀⠀⠀⠀⠀⠀⠀⠀⠀⠳⣄⠀⠀⠀⠀⠀⠀⠀⠀⠀⠀⠀⠀⠀⠀⠀⠀⠀⠀\n",
       "⠀⠀⠀⠀⠀⠀⠀⠀⠀⠀⠀⠀⠀⠀⠀⠀⠀⠀⠀⠀⠀⠈⠳⣄⠀⠀⠀⠀⠀⠀⠀⠀⠀⠀⠀⠀⠀⠀⠀⠀\n",
       "⠀⠀⠀⠀⠀⠀⠀⠀⠀⠀⠀⠀⠀⠀⠀⠀⠀⠀⠀⠀⠀⠀⠀⠈⠳⣄⠀⠀⠀⠀⠀⠀⠀⠀⠀⠀⠀⠀⠀⠀\n",
       "⠀⠀⠀⠀⠀⠀⠀⠀⠀⠀⠀⠀⠀⠀⠀⠀⠀⠀⠀⠀⠀⠀⠀⠀⠀⠈⠳⣄⠀⠀⠀⠀⠀⠀⠀⠀⠀⠀⠀⠀\n",
       "⠀⠀⠀⠀⠀⠀⠀⠀⠀⠀⠀⠀⠀⠀⠀⠀⠀⠀⠀⠀⠀⠀⠀⠀⠀⠀⠀⠈⠳⣄⠀⠀⠀⠀⠀⠀⠀⠀⠀⠀\n",
       "⠀⠀⠀⠀⠀⠀⠀⠀⠀⠀⠀⠀⠀⠀⠀⠀⠀⠀⠀⠀⠀⠀⠀⠀⠀⠀⠀⠀⠀⠈⠳⣄⠀⠀⠀⠀⠀⠀⠀⠀\n",
       "⠀⠀⠀⠀⠀⠀⠀⠀⠀⠀⠀⠀⠀⠀⠀⠀⠀⠀⠀⠀⠀⠀⠀⠀⠀⠀⠀⠀⠀⠀⠀⠈⠳⣄⠀⠀⠀⠀⠀⠀\n",
       "⠀⠀⠀⠀⠀⠀⠀⠀⠀⠀⠀⠀⠀⠀⠀⠀⠀⠀⠀⠀⠀⠀⠀⠀⠀⠀⠀⠀⠀⠀⠀⠀⠀⠈⠳⣄⠀⠀⠀⠀\n",
       "⠀⠀⠀⠀⠀⠀⠀⠀⠀⠀⠀⠀⠀⠀⠀⠀⠀⠀⠀⠀⠀⠀⠀⠀⠀⠀⠀⠀⠀⠀⠀⠀⠀⠀⠀⠈⠳⣄⠀⠀\n",
       "⠀⠀⠀⠀⠀⠀⠀⠀⠀⠀⠀⠀⠀⠀⠀⠀⠀⠀⠀⠀⠀⠀⠀⠀⠀⠀⠀⠀⠀⠀⠀⠀⠀⠀⠀⠀⠀⠀⠓⢄\n",
       "R0 factor:\n",
       "1536×13859 Matrix{Float64}:\n",
       " 0.0  0.0  0.0  0.0  0.0  0.0  0.0  0.0  0.0  …    29.3678      20.6036\n",
       " 0.0  0.0  0.0  0.0  0.0  0.0  0.0  0.0  0.0     -113.882      -80.5083\n",
       " 0.0  0.0  0.0  0.0  0.0  0.0  0.0  0.0  0.0      -82.8833     -39.4913\n",
       " 0.0  0.0  0.0  0.0  0.0  0.0  0.0  0.0  0.0      -53.9933     -25.3116\n",
       " 0.0  0.0  0.0  0.0  0.0  0.0  0.0  0.0  0.0      -31.1142     -38.454\n",
       " 0.0  0.0  0.0  0.0  0.0  0.0  0.0  0.0  0.0  …    11.8961       7.54637\n",
       " 0.0  0.0  0.0  0.0  0.0  0.0  0.0  0.0  0.0       51.5811      35.562\n",
       " 0.0  0.0  0.0  0.0  0.0  0.0  0.0  0.0  0.0       42.4186      42.4792\n",
       " 0.0  0.0  0.0  0.0  0.0  0.0  0.0  0.0  0.0       32.7863      16.9151\n",
       " 0.0  0.0  0.0  0.0  0.0  0.0  0.0  0.0  0.0       53.688       27.0784\n",
       " 0.0  0.0  0.0  0.0  0.0  0.0  0.0  0.0  0.0  …    21.2737       4.53601\n",
       " 0.0  0.0  0.0  0.0  0.0  0.0  0.0  0.0  0.0     -169.635     -126.877\n",
       " 0.0  0.0  0.0  0.0  0.0  0.0  0.0  0.0  0.0        3.46991      6.16255\n",
       " ⋮                        ⋮                   ⋱               \n",
       " 0.0  0.0  0.0  0.0  0.0  0.0  0.0  0.0  0.0        0.182714    -0.00480044\n",
       " 0.0  0.0  0.0  0.0  0.0  0.0  0.0  0.0  0.0  …     0.263812    -0.00284498\n",
       " 0.0  0.0  0.0  0.0  0.0  0.0  0.0  0.0  0.0       -0.740853    -0.163895\n",
       " 0.0  0.0  0.0  0.0  0.0  0.0  0.0  0.0  0.0        0.175596     0.146001\n",
       " 0.0  0.0  0.0  0.0  0.0  0.0  0.0  0.0  0.0        0.917078    -0.0240817\n",
       " 0.0  0.0  0.0  0.0  0.0  0.0  0.0  0.0  0.0        0.14663     -0.0378352\n",
       " 0.0  0.0  0.0  0.0  0.0  0.0  0.0  0.0  0.0  …     0.07464      0.157529\n",
       " 0.0  0.0  0.0  0.0  0.0  0.0  0.0  0.0  0.0       -0.553139    -0.0579305\n",
       " 0.0  0.0  0.0  0.0  0.0  0.0  0.0  0.0  0.0       -0.208096     0.231881\n",
       " 0.0  0.0  0.0  0.0  0.0  0.0  0.0  0.0  0.0       -0.890615    -0.183819\n",
       " 0.0  0.0  0.0  0.0  0.0  0.0  0.0  0.0  0.0       -1.75479      0.100467\n",
       " 0.0  0.0  0.0  0.0  0.0  0.0  0.0  0.0  0.0  …     0.0          1.69309"
      ]
     },
     "execution_count": 11,
     "metadata": {},
     "output_type": "execute_result"
    }
   ],
   "source": [
    "corte = 1000\n",
    "ptr = pre_trained.matrix\n",
    "ftr = fine_tuned.matrix\n",
    "\n",
    "#sanity check: igual ao equivalente em python\n",
    "U, S, V = LinearAlgebra.svd( ptr' * ftr)\n",
    "t = V * U'\n",
    "print( norm(t * pre_trained.matrix' - fine_tuned.matrix' ) )\n",
    "\n",
    "#testando com o gsvd\n",
    "U, V, Q, D1, D2, R0 = svd( copy(ptr'), copy(ftr') )"
   ]
  },
  {
   "cell_type": "code",
   "execution_count": 12,
   "id": "5879af27",
   "metadata": {},
   "outputs": [
    {
     "data": {
      "text/plain": [
       "2672.731045631968"
      ]
     },
     "execution_count": 12,
     "metadata": {},
     "output_type": "execute_result"
    }
   ],
   "source": [
    "#for i = 228:760\n",
    "#rel_pro = V *D2 * pinv(D1) * U'\n",
    "rel_pro = V * D2 * pinv(D1) * U'\n",
    "\n",
    "writedlm( \"tradutor_julia.csv\",  rel_pro, ' ')\n",
    "norm(rel_pro * pre_trained.matrix' - fine_tuned.matrix' ) "
   ]
  }
 ],
 "metadata": {
  "kernelspec": {
   "display_name": "Julia 1.7.3",
   "language": "julia",
   "name": "julia-1.7"
  },
  "language_info": {
   "file_extension": ".jl",
   "mimetype": "application/julia",
   "name": "julia",
   "version": "1.7.3"
  }
 },
 "nbformat": 4,
 "nbformat_minor": 5
}
