{
 "cells": [
  {
   "cell_type": "code",
   "execution_count": 1,
   "id": "f855c92f",
   "metadata": {},
   "outputs": [],
   "source": [
    "using LinearAlgebra"
   ]
  },
  {
   "cell_type": "code",
   "execution_count": 92,
   "id": "2f96720d",
   "metadata": {},
   "outputs": [
    {
     "data": {
      "text/plain": [
       "3×10 Matrix{Float64}:\n",
       "  0.313169  -0.418768   1.42326   …  -0.912178    0.66989    1.45251\n",
       "  1.45614    0.953865  -0.595101      1.84551    -1.56693    0.301879\n",
       " -0.322094  -1.22764    0.305322      0.0570878   0.117391  -0.883178"
      ]
     },
     "execution_count": 92,
     "metadata": {},
     "output_type": "execute_result"
    }
   ],
   "source": [
    "A = randn(3, 5)\n",
    "B = randn(3, 10)"
   ]
  },
  {
   "cell_type": "code",
   "execution_count": 82,
   "id": "2b96c7c1",
   "metadata": {},
   "outputs": [
    {
     "data": {
      "text/plain": [
       "5×10 Matrix{Float64}:\n",
       "  0.213585    0.265467   0.675862   …  -0.110538   -0.244722    0.524485\n",
       "  0.0662896  -0.446491  -0.0454608     -0.253845    0.0277552   0.140706\n",
       " -0.476436   -0.2519     0.018297       0.133422   -0.0709156   0.358479\n",
       " -0.0667424  -0.635536   0.0521982      0.0189502  -0.0228182   0.0681989\n",
       "  0.656128   -0.287017   0.0912102      0.108307   -0.358843   -0.134287"
      ]
     },
     "execution_count": 82,
     "metadata": {},
     "output_type": "execute_result"
    }
   ],
   "source": [
    "U1, S1, V1 = svd(B'A)\n",
    "V1*U1'"
   ]
  },
  {
   "cell_type": "code",
   "execution_count": 96,
   "id": "cf5a79d7",
   "metadata": {},
   "outputs": [
    {
     "data": {
      "text/plain": [
       "(1.6999015526078588e-15, 2.118545560201296e-15)"
      ]
     },
     "execution_count": 96,
     "metadata": {},
     "output_type": "execute_result"
    }
   ],
   "source": [
    "U, V, Q, D1, D2, R0 = svd(copy(A'), copy(B'))\n",
    "norm(A' - U*D1*R0*Q'), norm(B' - V*D2*R0*Q')"
   ]
  },
  {
   "cell_type": "code",
   "execution_count": 97,
   "id": "f2cb97cc",
   "metadata": {},
   "outputs": [
    {
     "data": {
      "text/plain": [
       "5×10 Matrix{Any}:\n",
       " -0.460391   0.705169   -0.576313   …  -0.390294    0.251772   -0.0615338\n",
       " -0.273896   0.193321   -0.346495      -0.0819981   0.0652037  -0.273523\n",
       "  0.376259  -0.0988643   0.149671       0.365104   -0.288572    0.120251\n",
       "  0.33429    0.0384049   0.111853       0.266111   -0.22757     0.208793\n",
       "  0.011345  -0.142639    0.0550154      0.0455192  -0.019024   -0.0736932"
      ]
     },
     "execution_count": 97,
     "metadata": {},
     "output_type": "execute_result"
    }
   ],
   "source": [
    "function pseudo_inversa(M)\n",
    "    return [ M[i, j] == 0 ? 0 : 1/M[i,j] for j=1:size(M, 2), i=1:size(M, 1)]\n",
    "end\n",
    "\n",
    "U*Matrix(D1)*pseudo_inverse(D2)*V'"
   ]
  },
  {
   "cell_type": "code",
   "execution_count": 110,
   "id": "eefa6fcb",
   "metadata": {},
   "outputs": [
    {
     "data": {
      "text/plain": [
       "3×10 Matrix{Float64}:\n",
       " 1.24503  0.0      0.0      0.0  0.0  0.0  0.0  0.0  0.0  0.0\n",
       " 0.0      1.07358  0.0      0.0  0.0  0.0  0.0  0.0  0.0  0.0\n",
       " 0.0      0.0      1.93222  0.0  0.0  0.0  0.0  0.0  0.0  0.0"
      ]
     },
     "execution_count": 110,
     "metadata": {},
     "output_type": "execute_result"
    }
   ],
   "source": [
    "U, S, V = svd(Matrix(D2))\n",
    "pD2 = V' * Diagonal(1 ./ S) * U'"
   ]
  },
  {
   "cell_type": "code",
   "execution_count": 113,
   "id": "988a2248",
   "metadata": {},
   "outputs": [
    {
     "data": {
      "text/plain": [
       "3×10 Matrix{Real}:\n",
       " 1.24503  0        0        0  0  0  0  0  0  0\n",
       " 0        1.07358  0        0  0  0  0  0  0  0\n",
       " 0        0        1.93222  0  0  0  0  0  0  0"
      ]
     },
     "execution_count": 113,
     "metadata": {},
     "output_type": "execute_result"
    }
   ],
   "source": [
    "pseudo_inversa(D2)"
   ]
  }
 ],
 "metadata": {
  "kernelspec": {
   "display_name": "Julia 1.7.3",
   "language": "julia",
   "name": "julia-1.7"
  },
  "language_info": {
   "file_extension": ".jl",
   "mimetype": "application/julia",
   "name": "julia",
   "version": "1.7.3"
  }
 },
 "nbformat": 4,
 "nbformat_minor": 5
}
