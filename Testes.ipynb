{
 "cells": [
  {
   "cell_type": "code",
   "execution_count": 1,
   "id": "f855c92f",
   "metadata": {},
   "outputs": [],
   "source": [
    "using LinearAlgebra\n",
    "    #https://netlib.org/lapack/lug/node36.html"
   ]
  },
  {
   "cell_type": "code",
   "execution_count": 2,
   "id": "2f96720d",
   "metadata": {},
   "outputs": [
    {
     "data": {
      "text/plain": [
       "3×10 Matrix{Float64}:\n",
       " -0.37467   -0.972312  -0.665829  …   0.126094   0.0802826  -0.832333\n",
       " -1.18714    2.69068    0.877454     -0.336699   0.816108    0.613034\n",
       "  0.211367  -1.17495    0.741525     -0.267871  -2.2742      0.806065"
      ]
     },
     "execution_count": 2,
     "metadata": {},
     "output_type": "execute_result"
    }
   ],
   "source": [
    "A = randn(3, 5)\n",
    "B = randn(3, 10)"
   ]
  },
  {
   "cell_type": "code",
   "execution_count": 52,
   "id": "cf5a79d7",
   "metadata": {},
   "outputs": [
    {
     "data": {
      "text/plain": [
       "(4.470651315397726e-15, 2.638970003411226e-15)"
      ]
     },
     "execution_count": 52,
     "metadata": {},
     "output_type": "execute_result"
    }
   ],
   "source": [
    "U, V, Q, D1, D2, R0 = svd(copy(A'), copy(B'))\n",
    "norm(A' - U*D1*R0*Q'), norm(B' - V*D2*R0*Q')"
   ]
  },
  {
   "cell_type": "code",
   "execution_count": 73,
   "id": "fc88f828",
   "metadata": {},
   "outputs": [
    {
     "data": {
      "text/plain": [
       "(true, true, true, true, true, true)"
      ]
     },
     "execution_count": 73,
     "metadata": {},
     "output_type": "execute_result"
    }
   ],
   "source": [
    "m, n = size(A')\n",
    "p, n = size(B')\n",
    "r = rank([A'; B'])\n",
    "l = rank(B')\n",
    "k = l-r\n",
    "\n",
    "#Dimension checks\n",
    "size(U) == (m, m), size(V) == (p, p), size(Q) == (n, n), size(R0) == (r, n), size(D1) == (m, r), size(D2) == (p, r)"
   ]
  },
  {
   "cell_type": "code",
   "execution_count": 97,
   "id": "6ceb16b1",
   "metadata": {},
   "outputs": [
    {
     "data": {
      "text/plain": [
       "3-element Vector{Float64}:\n",
       " 0.8130530364391736\n",
       " 0.6191930854525729\n",
       " 0.5289260398184472"
      ]
     },
     "execution_count": 97,
     "metadata": {},
     "output_type": "execute_result"
    }
   ],
   "source": [
    "diag(D1'*D1)\n",
    "diag(D2'*D2)"
   ]
  },
  {
   "cell_type": "code",
   "execution_count": 43,
   "id": "6197c242",
   "metadata": {},
   "outputs": [
    {
     "data": {
      "text/plain": [
       "4.713713345400037"
      ]
     },
     "execution_count": 43,
     "metadata": {},
     "output_type": "execute_result"
    }
   ],
   "source": [
    "D12 = copy(D1)\n",
    "D12[1,1] = D12[1,1]/(3/10)"
   ]
  },
  {
   "cell_type": "code",
   "execution_count": 82,
   "id": "2b96c7c1",
   "metadata": {},
   "outputs": [
    {
     "data": {
      "text/plain": [
       "5×10 Matrix{Float64}:\n",
       "  0.213585    0.265467   0.675862   …  -0.110538   -0.244722    0.524485\n",
       "  0.0662896  -0.446491  -0.0454608     -0.253845    0.0277552   0.140706\n",
       " -0.476436   -0.2519     0.018297       0.133422   -0.0709156   0.358479\n",
       " -0.0667424  -0.635536   0.0521982      0.0189502  -0.0228182   0.0681989\n",
       "  0.656128   -0.287017   0.0912102      0.108307   -0.358843   -0.134287"
      ]
     },
     "execution_count": 82,
     "metadata": {},
     "output_type": "execute_result"
    }
   ],
   "source": [
    "U1, S1, V1 = svd(B'A)\n",
    "V1*U1'"
   ]
  },
  {
   "cell_type": "code",
   "execution_count": 110,
   "id": "eefa6fcb",
   "metadata": {},
   "outputs": [
    {
     "data": {
      "text/plain": [
       "3×10 Matrix{Float64}:\n",
       " 1.24503  0.0      0.0      0.0  0.0  0.0  0.0  0.0  0.0  0.0\n",
       " 0.0      1.07358  0.0      0.0  0.0  0.0  0.0  0.0  0.0  0.0\n",
       " 0.0      0.0      1.93222  0.0  0.0  0.0  0.0  0.0  0.0  0.0"
      ]
     },
     "execution_count": 110,
     "metadata": {},
     "output_type": "execute_result"
    }
   ],
   "source": [
    "U, S, V = svd(Matrix(D2))\n",
    "pD2 = V' * Diagonal(1 ./ S) * U'"
   ]
  },
  {
   "cell_type": "code",
   "execution_count": 113,
   "id": "988a2248",
   "metadata": {},
   "outputs": [
    {
     "data": {
      "text/plain": [
       "3×10 Matrix{Real}:\n",
       " 1.24503  0        0        0  0  0  0  0  0  0\n",
       " 0        1.07358  0        0  0  0  0  0  0  0\n",
       " 0        0        1.93222  0  0  0  0  0  0  0"
      ]
     },
     "execution_count": 113,
     "metadata": {},
     "output_type": "execute_result"
    }
   ],
   "source": [
    "pseudo_inversa(D2)"
   ]
  }
 ],
 "metadata": {
  "kernelspec": {
   "display_name": "Julia 1.7.3",
   "language": "julia",
   "name": "julia-1.7"
  },
  "language_info": {
   "file_extension": ".jl",
   "mimetype": "application/julia",
   "name": "julia",
   "version": "1.8.3"
  }
 },
 "nbformat": 4,
 "nbformat_minor": 5
}
