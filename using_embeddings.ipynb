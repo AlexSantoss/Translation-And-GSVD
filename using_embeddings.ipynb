{
 "cells": [
  {
   "cell_type": "code",
   "execution_count": 1,
   "metadata": {},
   "outputs": [],
   "source": [
    "import numpy as np\n",
    "import pandas as pd\n",
    "from sklearn.svm import SVC\n",
    "from sklearn.model_selection import train_test_split\n",
    "from sklearn.metrics import accuracy_score"
   ]
  },
  {
   "cell_type": "code",
   "execution_count": 2,
   "metadata": {},
   "outputs": [],
   "source": [
    "df = pd.read_csv(\"tifeeds_embeds_columns.csv\")"
   ]
  },
  {
   "cell_type": "code",
   "execution_count": 3,
   "metadata": {},
   "outputs": [],
   "source": [
    "X_pre_trained = df.filter(regex=(\"pre_trained.*\"))\n",
    "X_fine_tuned = df.filter(regex=(\"fine_tuned.*\"))"
   ]
  },
  {
   "cell_type": "code",
   "execution_count": 4,
   "metadata": {},
   "outputs": [
    {
     "name": "stdout",
     "output_type": "stream",
     "text": [
      "(13859, 768)\n",
      "(13859, 768)\n"
     ]
    }
   ],
   "source": [
    "# 768 embeddings\n",
    "print(X_pre_trained.shape)\n",
    "print(X_fine_tuned.shape)"
   ]
  },
  {
   "cell_type": "code",
   "execution_count": 4,
   "metadata": {},
   "outputs": [],
   "source": [
    "def test_clf(X, y):\n",
    "    X_train, X_test, y_train, y_test = train_test_split(X, y, random_state=2022, test_size=0.3)\n",
    "    clf = SVC()\n",
    "    clf.fit(X_train, y_train)\n",
    "    return accuracy_score(clf.predict(X_test), y_test)"
   ]
  },
  {
   "cell_type": "code",
   "execution_count": 5,
   "metadata": {},
   "outputs": [
    {
     "name": "stdout",
     "output_type": "stream",
     "text": [
      "Pre-trained acc:  0.9126984126984127\n"
     ]
    }
   ],
   "source": [
    "# Test with pre_trained embeddings\n",
    "print(\"Pre-trained acc: \", test_clf(X_pre_trained, df.label))"
   ]
  },
  {
   "cell_type": "code",
   "execution_count": 6,
   "metadata": {},
   "outputs": [
    {
     "name": "stdout",
     "output_type": "stream",
     "text": [
      "Fine-tuned acc:  0.9564694564694565\n"
     ]
    }
   ],
   "source": [
    "# Test with fine-tuned embeddings\n",
    "print(\"Fine-tuned acc: \", test_clf(X_fine_tuned, df.label))"
   ]
  },
  {
   "cell_type": "code",
   "execution_count": 7,
   "metadata": {},
   "outputs": [],
   "source": [
    "def balance(df):\n",
    "    pos = df[df['label'] == 1]\n",
    "    neg = df[~df.index.isin(pos.index)]\n",
    "    neg = neg.iloc[:pos.shape[0]]\n",
    "    return pd.concat([pos,neg])"
   ]
  },
  {
   "cell_type": "code",
   "execution_count": 8,
   "metadata": {},
   "outputs": [
    {
     "data": {
      "text/plain": [
       "0.0    2534\n",
       "1.0    2534\n",
       "Name: label, dtype: int64"
      ]
     },
     "execution_count": 8,
     "metadata": {},
     "output_type": "execute_result"
    }
   ],
   "source": [
    "# Testing with balanced datasets\n",
    "\n",
    "df_balanced = balance(df)\n",
    "df_balanced['label'].value_counts()"
   ]
  },
  {
   "cell_type": "code",
   "execution_count": 9,
   "metadata": {},
   "outputs": [
    {
     "name": "stdout",
     "output_type": "stream",
     "text": [
      "Pre-trained:  0.9769888231426693\n",
      "Fine-tuned:  0.980276134122288\n"
     ]
    }
   ],
   "source": [
    "X_pre_trained = df_balanced.filter(regex=(\"pre_trained.*\"))\n",
    "X_fine_tuned = df_balanced.filter(regex=(\"fine_tuned.*\"))\n",
    "print(\"Pre-trained: \", test_clf(X_pre_trained, df_balanced.label))\n",
    "print(\"Fine-tuned: \", test_clf(X_fine_tuned, df_balanced.label))"
   ]
  }
 ],
 "metadata": {
  "kernelspec": {
   "display_name": "Python 3",
   "language": "python",
   "name": "python3"
  },
  "language_info": {
   "codemirror_mode": {
    "name": "ipython",
    "version": 3
   },
   "file_extension": ".py",
   "mimetype": "text/x-python",
   "name": "python",
   "nbconvert_exporter": "python",
   "pygments_lexer": "ipython3",
   "version": "3.10.6"
  }
 },
 "nbformat": 4,
 "nbformat_minor": 4
}
